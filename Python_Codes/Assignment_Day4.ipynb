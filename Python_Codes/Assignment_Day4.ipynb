{
 "cells": [
  {
   "cell_type": "code",
   "execution_count": 1,
   "metadata": {},
   "outputs": [
    {
     "name": "stdout",
     "output_type": "stream",
     "text": [
      "Enter Element 1\n",
      "Enter Element 5\n",
      "Enter Element 6\n",
      "Enter Element 4\n",
      "Enter Element 1\n",
      "Enter Element 2\n",
      "Enter Element 3\n",
      "Enter Element 5\n"
     ]
    },
    {
     "data": {
      "text/plain": [
       "[1, 5, 6, 4, 1, 2, 3, 5]"
      ]
     },
     "execution_count": 1,
     "metadata": {},
     "output_type": "execute_result"
    }
   ],
   "source": [
    "#Write a program to identify sub list [1,1,5] is there in the given list in the same order, if yes print “It’s a Match” if no then print “It’s Gone” in function. \n",
    "def input_Module():\n",
    "    lst = []\n",
    "    i = 1\n",
    "    while(i<=8):  \n",
    "        temp = int(input(\"Enter Element \"))\n",
    "        lst.append(temp)\n",
    "        i += 1\n",
    "    return lst\n",
    "input_Module()"
   ]
  },
  {
   "cell_type": "code",
   "execution_count": 4,
   "metadata": {},
   "outputs": [
    {
     "name": "stdout",
     "output_type": "stream",
     "text": [
      "[1, 5]\n",
      "[5]\n",
      "[5]\n",
      "It’s Gone\n",
      "Enter Element 1\n",
      "Enter Element 5\n",
      "Enter Element 6\n",
      "Enter Element 4\n",
      "Enter Element 1\n",
      "Enter Element 2\n",
      "Enter Element 3\n",
      "Enter Element 5\n",
      " \n",
      " \n",
      " \n",
      "It’s a Match\n"
     ]
    }
   ],
   "source": [
    "lst1 = [1, 5, 6, 5, 1, 2, 3, 6]\n",
    "\n",
    "sub_lst = [1,1,5]\n",
    "\n",
    "i =0\n",
    "while(i<8):\n",
    "    if (len(sub_lst)>0 and lst1[i] == sub_lst[0]):\n",
    "        sub_lst.pop(0)\n",
    "        print(sub_lst)\n",
    "   \n",
    "    i +=1\n",
    "\n",
    "print(sub_lst)\n",
    "\n",
    "if(len(sub_lst) == 0):\n",
    "    print(\"It’s a Match\")\n",
    "else:\n",
    "    print(\"It’s Gone\")\n",
    "def check_the_sub_lst(lst):\n",
    "    sub_lst = [1,1,5]\n",
    "    for i in range(0,8):\n",
    "        if(lst[i] == sub_lst[0]):\n",
    "            sub_lst.pop(0)\n",
    "        if(len(sub_lst) == 0):\n",
    "            break\n",
    "    if(len(sub_lst) == 0 ):\n",
    "        return \"It’s a Match\"\n",
    "    else:\n",
    "        return \"It’s Gone\"\n",
    "new_lst = input_Module()\n",
    "print(\" \")\n",
    "print(\" \")\n",
    "print(\" \")\n",
    "solution = check_the_sub_lst(new_lst)\n",
    "print(solution)"
   ]
  },
  {
   "cell_type": "code",
   "execution_count": null,
   "metadata": {},
   "outputs": [],
   "source": []
  }
 ],
 "metadata": {
  "kernelspec": {
   "display_name": "Python 3",
   "language": "python",
   "name": "python3"
  },
  "language_info": {
   "codemirror_mode": {
    "name": "ipython",
    "version": 3
   },
   "file_extension": ".py",
   "mimetype": "text/x-python",
   "name": "python",
   "nbconvert_exporter": "python",
   "pygments_lexer": "ipython3",
   "version": "3.7.6"
  }
 },
 "nbformat": 4,
 "nbformat_minor": 4
}
